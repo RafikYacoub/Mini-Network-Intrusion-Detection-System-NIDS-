{
  "nbformat": 4,
  "nbformat_minor": 0,
  "metadata": {
    "colab": {
      "provenance": []
    },
    "kernelspec": {
      "name": "python3",
      "display_name": "Python 3"
    },
    "language_info": {
      "name": "python"
    }
  },
  "cells": [
    {
      "cell_type": "code",
      "source": [
        "!pip install scapy\n",
        "!pip install IP2Location    # can also be used in bonus but is very large"
      ],
      "metadata": {
        "colab": {
          "base_uri": "https://localhost:8080/"
        },
        "id": "cpal5dhi5nEp",
        "outputId": "4f6ca849-b746-406a-977f-0ee704cf5928"
      },
      "execution_count": 1,
      "outputs": [
        {
          "output_type": "stream",
          "name": "stdout",
          "text": [
            "Looking in indexes: https://pypi.org/simple, https://us-python.pkg.dev/colab-wheels/public/simple/\n",
            "Collecting scapy\n",
            "  Downloading scapy-2.5.0.tar.gz (1.3 MB)\n",
            "\u001b[2K     \u001b[90m━━━━━━━━━━━━━━━━━━━━━━━━━━━━━━━━━━━━━━━━\u001b[0m \u001b[32m1.3/1.3 MB\u001b[0m \u001b[31m13.5 MB/s\u001b[0m eta \u001b[36m0:00:00\u001b[0m\n",
            "\u001b[?25h  Preparing metadata (setup.py) ... \u001b[?25l\u001b[?25hdone\n",
            "Building wheels for collected packages: scapy\n",
            "  Building wheel for scapy (setup.py) ... \u001b[?25l\u001b[?25hdone\n",
            "  Created wheel for scapy: filename=scapy-2.5.0-py2.py3-none-any.whl size=1444325 sha256=2533a0b26f068ef90f2408d7e5d4e67ce21676a3fb9ac5a4fcab0fe20c709d1f\n",
            "  Stored in directory: /root/.cache/pip/wheels/82/b7/03/8344d8cf6695624746311bc0d389e9d05535ca83c35f90241d\n",
            "Successfully built scapy\n",
            "Installing collected packages: scapy\n",
            "Successfully installed scapy-2.5.0\n",
            "Looking in indexes: https://pypi.org/simple, https://us-python.pkg.dev/colab-wheels/public/simple/\n",
            "Collecting IP2Location\n",
            "  Downloading IP2Location-8.10.0-py3-none-any.whl (16 kB)\n",
            "Installing collected packages: IP2Location\n",
            "Successfully installed IP2Location-8.10.0\n"
          ]
        }
      ]
    },
    {
      "cell_type": "code",
      "source": [
        "from scapy.all import *\n",
        "from bs4 import BeautifulSoup\n",
        "import requests"
      ],
      "metadata": {
        "id": "xNNPm7Y05weS"
      },
      "execution_count": 2,
      "outputs": []
    },
    {
      "cell_type": "code",
      "source": [
        "ANTARCTICA_list = []\n",
        "\n",
        "x='31.187.93.'\n",
        "for i in range(96, 112):\n",
        "  ANTARCTICA_list.append(x+str(i))\n",
        "\n",
        "x='46.136.153.'\n",
        "for i in range(0, 256):\n",
        "  ANTARCTICA_list.append(x+str(i))\n",
        "\n",
        "x='46.136.231.'\n",
        "for i in range(0, 256):\n",
        "  ANTARCTICA_list.append(x+str(i))\n",
        "\n",
        "x='46.136.176.'\n",
        "for i in range(0, 256):\n",
        "  ANTARCTICA_list.append(x+str(i))"
      ],
      "metadata": {
        "id": "5CgJYjbZNURn"
      },
      "execution_count": 3,
      "outputs": []
    },
    {
      "cell_type": "code",
      "execution_count": null,
      "metadata": {
        "id": "MFAxYEiE3r85"
      },
      "outputs": [],
      "source": [
        "# A bonus function to get the location of the attacker\n",
        "def bonus_location(ip):\n",
        "    print(ip)\n",
        "    response = requests.get(\"https://geolocation-db.com/json/\"+ip+\"&position=true\").json()\n",
        "    return(response['country_name'] + \" - \" + response['city'] + \" - \" + response['postal'])\n",
        "\n",
        "# Function to detect port scanning techniques\n",
        "def detect_port_scans(pkt, x):\n",
        "    # Check if packet is a TCP packet\n",
        "    if pkt.haslayer(TCP):\n",
        "        # Check if TCP flags are set to indicate a port scan\n",
        "        if pkt['TCP'].flags == 0x002: # SYN\n",
        "            print(f'Packet #{x}:')\n",
        "            print(f\"Stealth Port Scan detected from {pkt['IP'].src} in {bonus_location(pkt[IP].src)} to {pkt['IP'].dst}\")\n",
        "            print('----------------')\n",
        "        elif pkt['TCP'].flags == 0x000: # NULL\n",
        "            print(f'Packet #{x}:')\n",
        "            print(f\"NULL Port Scan detected from {pkt['IP'].src} in {bonus_location(pkt[IP].src)} to {pkt['IP'].dst}\")\n",
        "            print('----------------')\n",
        "        elif pkt['TCP'].flags == 0x001: # FIN\n",
        "            print(f'Packet #{x}:')\n",
        "            print(f\"FIN Port Scan detected from {pkt['IP'].src} in {bonus_location(pkt[IP].src)} to {pkt['IP'].dst}\")\n",
        "            print('----------------')\n",
        "        elif pkt['TCP'].flags == 0x029: # FIN, PSH, URG\n",
        "            print(f'Packet #{x}:')\n",
        "            print(f\"Xmas Port Scan detected from {pkt['IP'].src} in {bonus_location(pkt[IP].src)} to {pkt['IP'].dst}\")\n",
        "            print('----------------')\n",
        "\n",
        "def bonus_scans(pkt, x):\n",
        "    if pkt.haslayer(TCP):\n",
        "        if pkt['TCP'].flags == 0x020: # URG\n",
        "            print(f'Packet #{x}:')\n",
        "            print(f\"URG Port Scan detected from {pkt['IP'].src} in {bonus_location(pkt[IP].src)} to {pkt['IP'].dst}\")\n",
        "            print('----------------')\n",
        "        elif pkt['TCP'].flags == 0x008: # PSH\n",
        "            print(f'Packet #{x}:')\n",
        "            print(f\"PSH Port Scan detected from {pkt['IP'].src} in {bonus_location(pkt[IP].src)} to {pkt['IP'].dst}\")\n",
        "            print('----------------')\n",
        "        elif pkt['TCP'].flags == 0x028: # URG-PSH\n",
        "            print(f'Packet #{x}:')\n",
        "            print(f\"URG-PSH Port Scan detected from {pkt['IP'].src} in {bonus_location(pkt[IP].src)} to {pkt['IP'].dst}\")\n",
        "            print('----------------')\n",
        "\n",
        "# Function to detect Nikto scanner\n",
        "def detect_nikto(pkt, x):\n",
        "    # Check if packet contains \"nikto\" in raw payload\n",
        "    if Raw in pkt and \"nikto\" in str(pkt[Raw].load):\n",
        "        print(f'Packet #{x}:')\n",
        "        print(f\"Nikto Scanner detected from {pkt[IP].src} in {bonus_location(pkt[IP].src)} to {pkt[IP].dst}\")\n",
        "        print('----------------')\n",
        "\n",
        "# Function to detect attackers from ANTARCTICA\n",
        "def detect_antarctica(pkt, x):\n",
        "    if (IP in pkt) and (pkt[IP].src in ANTARCTICA_list):\n",
        "      print(f'Packet #{x}:')\n",
        "      print(f\"Attack from ANTARCTICA detected from {pkt[IP].src} to {pkt[IP].dst}\")\n",
        "      print('----------------')\n",
        "\n",
        "# Main function to read packets from pcap file and call detection functions\n",
        "def main():\n",
        "    files = ['/content/stealth.pcapng', '/content/null.pcap', '/content/fin.pcap', '/content/xmas.pcap', '/content/nikto.pcap', '/content/Antarctica.pcap']\n",
        "    files = ['/content/Antarctica.pcap']\n",
        "    \n",
        "    for filename in files:\n",
        "        print(f\"Reading packets from {filename}\")\n",
        "        packets = rdpcap(filename)\n",
        "        # Call detection functions for each packet\n",
        "        x=1\n",
        "        for pkt in packets:\n",
        "            #detect_port_scans(pkt, x)\n",
        "            detect_nikto(pkt, x)\n",
        "            detect_antarctica(pkt, x)\n",
        "            x = x+1\n",
        "\n",
        "main()"
      ]
    },
    {
      "cell_type": "code",
      "source": [
        "# Code to extract Nikto Scanner packets' numbers\n",
        "\n",
        "packets = rdpcap('/content/nikto.pcap')\n",
        "x=1\n",
        "for pkt in packets:\n",
        "  if Raw in pkt and \"nikto\" in str(pkt[Raw].load):\n",
        "        print(x)\n",
        "        #print(pkt[Raw])\n",
        "        #print(pkt[Raw].load)\n",
        "        #print(f\"Nikto Scanner detected from {pkt[IP].src} to {pkt[IP].dst}\")\n",
        "  x=x+1"
      ],
      "metadata": {
        "colab": {
          "base_uri": "https://localhost:8080/"
        },
        "id": "P3c4rdM6Odi2",
        "outputId": "ac8da459-6230-4a2a-83a2-ad5d92687415"
      },
      "execution_count": null,
      "outputs": [
        {
          "output_type": "stream",
          "name": "stdout",
          "text": [
            "926\n",
            "Raw\n",
            "b'GET / HTTP/1.1\\r\\nHost: 192.168.1.215\\r\\nOrigin: nikto.example.com\\r\\nConnection: Keep-Alive\\r\\nUser-Agent: Mozilla/5.00 (Nikto/2.1.6) (Evasions:None) (Test:origin_reflection)\\r\\n\\r\\n'\n",
            "Nikto Scanner detected from 192.168.1.218 to 192.168.1.215\n",
            "1767\n",
            "Raw\n",
            "b'PUT /nikto-test-EJcrh26r.html HTTP/1.1\\r\\nUser-Agent: Mozilla/5.00 (Nikto/2.1.6) (Evasions:None) (Test:put_del_test: PUT)\\r\\nContent-Length: 22\\r\\nConnection: Keep-Alive\\r\\nContent-Type: application/x-www-form-urlencoded\\r\\nHost: 192.168.1.215\\r\\n\\r\\nThis was a Nikto test.'\n",
            "Nikto Scanner detected from 192.168.1.218 to 192.168.1.215\n"
          ]
        }
      ]
    },
    {
      "cell_type": "code",
      "source": [
        "# Bonus verification\n",
        "\n",
        "link = \"https://www.countryipblocks.net/search_ip.php?search_ip=192.168.1.218&search_ip_result=\"\n",
        "response = requests.get(link)\n",
        "soup = BeautifulSoup(response.content)\n",
        "print(soup)\n",
        "elems = soup.find_all('h1', class_=\"mains\")\n",
        "print(elems)\n",
        "for elem in elems:\n",
        "    print(elem.text[:23])\n",
        "    if elem.text[:23] == \"IP Address assigned to\":\n",
        "        print(elem.text[25:])\n"
      ],
      "metadata": {
        "colab": {
          "base_uri": "https://localhost:8080/"
        },
        "id": "ivKKxhw1Oz-c",
        "outputId": "c583d3b5-e4d5-44f6-9a81-7c5c9b9dfbdd"
      },
      "execution_count": 4,
      "outputs": [
        {
          "output_type": "stream",
          "name": "stdout",
          "text": [
            "<!DOCTYPE HTML PUBLIC \"-//IETF//DTD HTML 2.0//EN\">\n",
            "<html><head>\n",
            "<title>403 Forbidden</title>\n",
            "</head><body>\n",
            "<h1>Forbidden</h1>\n",
            "<p>You don't have permission to access this resource.</p>\n",
            "<p>Additionally, a 403 Forbidden\n",
            "error was encountered while trying to use an ErrorDocument to handle the request.</p>\n",
            "</body></html>\n",
            "\n",
            "[]\n"
          ]
        }
      ]
    }
  ]
}